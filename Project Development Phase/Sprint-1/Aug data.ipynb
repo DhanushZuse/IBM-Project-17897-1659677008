{
 "cells": [
  {
   "cell_type": "code",
   "execution_count": 1,
   "id": "f2b4c549",
   "metadata": {},
   "outputs": [
    {
     "name": "stderr",
     "output_type": "stream",
     "text": [
      "Using TensorFlow backend.\n"
     ]
    }
   ],
   "source": [
    "from keras.preprocessing.image import ImageDataGenerator\n",
    "import cv2\n",
    "import os\n",
    "from os import listdir\n",
    "import time\n",
    "import glob"
   ]
  },
  {
   "cell_type": "code",
   "execution_count": 2,
   "id": "d4521c54",
   "metadata": {},
   "outputs": [],
   "source": [
    "def augumented_data(file_dir, n_generated_samples, save_to_dir):\n",
    "  data_gen=ImageDataGenerator(rotation_range=30,width_shift_range=0.1,height_shift_range=0.15,shear_range=0.25,zoom_range=0.2,horizontal_flip=True,vertical_flip=False,fill_mode=\"nearest\",brightness_range=(0.5,1.2))\n",
    "\n",
    "  for filename in listdir(file_dir):\n",
    "    image = cv2.imread(file_dir + '/' + filename)\n",
    "    image = image.reshape((1,)+image.shape)\n",
    "    save_prefix = 'aug_' + filename[:-4]\n",
    "    i=0\n",
    "    for batch in data_gen.flow(x=image, batch_size=1, save_to_dir=save_to_dir,save_prefix=save_prefix,save_format='jpg'):\n",
    "      i+=1\n",
    "      if i>n_generated_samples:\n",
    "        break"
   ]
  },
  {
   "cell_type": "code",
   "execution_count": 7,
   "id": "746fdc75",
   "metadata": {
    "scrolled": true
   },
   "outputs": [],
   "source": [
    "augumented_data_path='C:/Users/Admin/Desktop/NT/project/augumented data'\n",
    "augumented_data(file_dir='C:/Users/Admin/Desktop/NT/project/Digital Naturalist Dataset/Bird/Great Indian Bustard Bird',n_generated_samples=8,save_to_dir=augumented_data_path+'/Bird/GIB_AUG')\n",
    "augumented_data(file_dir='C:/Users/Admin/Desktop/NT/project/Digital Naturalist Dataset/Bird/Spoon Billed Sandpiper Bird',n_generated_samples=8,save_to_dir=augumented_data_path+'/Bird/SPS_AUG')\n",
    "augumented_data(file_dir='C:/Users/Admin/Desktop/NT/project/Digital Naturalist Dataset/Flower/Corpse Flower',n_generated_samples=8,save_to_dir=augumented_data_path+'/Flowers/Corpse_AUG')\n",
    "augumented_data(file_dir='C:/Users/Admin/Desktop/NT/project/Digital Naturalist Dataset/Flower/Lady Slipper Orchid Flower',n_generated_samples=8,save_to_dir=augumented_data_path+'/Flowers/LS_Orchid_AUG')\n",
    "augumented_data(file_dir='C:/Users/Admin/Desktop/NT/project/Digital Naturalist Dataset/Mammal/Pangolin Mammal',n_generated_samples=8,save_to_dir=augumented_data_path+'/Mammal/Pangolin_AUG')\n",
    "augumented_data(file_dir='C:/Users/Admin/Desktop/NT/project/Digital Naturalist Dataset/Mammal/Senenca White Deer Mammal',n_generated_samples=8,save_to_dir=augumented_data_path+'/Mammal/SW_Deer_AUG')"
   ]
  },
  {
   "cell_type": "code",
   "execution_count": null,
   "id": "42265448",
   "metadata": {},
   "outputs": [],
   "source": []
  }
 ],
 "metadata": {
  "kernelspec": {
   "display_name": "Python 3 (ipykernel)",
   "language": "python",
   "name": "python3"
  },
  "language_info": {
   "codemirror_mode": {
    "name": "ipython",
    "version": 3
   },
   "file_extension": ".py",
   "mimetype": "text/x-python",
   "name": "python",
   "nbconvert_exporter": "python",
   "pygments_lexer": "ipython3",
   "version": "3.9.12"
  }
 },
 "nbformat": 4,
 "nbformat_minor": 5
}
